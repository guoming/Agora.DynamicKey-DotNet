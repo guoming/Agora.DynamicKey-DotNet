{
  "cells": [
    {
      "cell_type": "markdown",
      "metadata": {
        "id": "view-in-github",
        "colab_type": "text"
      },
      "source": [
        "<a href=\"https://colab.research.google.com/github/guoming/Agora.DynamicKey-DotNet/blob/master/llama.ipynb\" target=\"_parent\"><img src=\"https://colab.research.google.com/assets/colab-badge.svg\" alt=\"Open In Colab\"/></a>"
      ]
    },
    {
      "cell_type": "markdown",
      "metadata": {
        "id": "GpcHIQFyV0Is"
      },
      "source": [
        "#LocalGPT 本地知识库部署"
      ]
    },
    {
      "cell_type": "markdown",
      "metadata": {
        "id": "bgiBKrYIV9Sn"
      },
      "source": [
        "### 1. 安装准备"
      ]
    },
    {
      "cell_type": "markdown",
      "metadata": {
        "id": "z9FlPJFkTXBW"
      },
      "source": [
        "**加粗文字** ### 1.1 设置工作目录"
      ]
    },
    {
      "cell_type": "code",
      "execution_count": 3,
      "metadata": {
        "id": "bbhudeQGSt_7"
      },
      "outputs": [],
      "source": [
        "import os\n",
        "os.environ['workDir'] = '/content/drive/MyDrive'"
      ]
    },
    {
      "cell_type": "markdown",
      "metadata": {
        "id": "_2eJdRVOTZk_"
      },
      "source": [
        "### 1.2 克隆localGPT 代码仓库"
      ]
    },
    {
      "cell_type": "code",
      "source": [
        "rm -rf /content/drive/MyDrive/localGPT_old"
      ],
      "metadata": {
        "colab": {
          "base_uri": "https://localhost:8080/"
        },
        "id": "MDLbZQHTm7P0",
        "outputId": "f64f0979-736f-48cd-abe5-863c699f8f1c"
      },
      "execution_count": 13,
      "outputs": [
        {
          "output_type": "stream",
          "name": "stdout",
          "text": [
            "^C\n"
          ]
        }
      ]
    },
    {
      "cell_type": "code",
      "execution_count": 12,
      "metadata": {
        "colab": {
          "base_uri": "https://localhost:8080/"
        },
        "id": "HRwd6QayiiRq",
        "outputId": "e3783cf0-09a5-44ee-99db-dabb5d628a39"
      },
      "outputs": [
        {
          "output_type": "stream",
          "name": "stdout",
          "text": [
            "Cloning into 'localGPT'...\n",
            "remote: Enumerating objects: 697, done.\u001b[K\n",
            "remote: Counting objects: 100% (4/4), done.\u001b[K\n",
            "remote: Compressing objects: 100% (4/4), done.\u001b[K\n",
            "remote: Total 697 (delta 0), reused 1 (delta 0), pack-reused 693\u001b[K\n",
            "Receiving objects: 100% (697/697), 1.91 MiB | 17.02 MiB/s, done.\n",
            "Resolving deltas: 100% (398/398), done.\n"
          ]
        }
      ],
      "source": [
        "!cd $workDir && git clone https://github.com/guoming/localGPT.git"
      ]
    },
    {
      "cell_type": "markdown",
      "metadata": {
        "id": "mNh56-UKTgUL"
      },
      "source": [
        "### 1.3 创建虚拟环境"
      ]
    },
    {
      "cell_type": "code",
      "execution_count": 14,
      "metadata": {
        "colab": {
          "base_uri": "https://localhost:8080/"
        },
        "id": "7klP0nafuaxb",
        "outputId": "06cc8c6b-1b2a-4700-9949-5a7c48a838fa"
      },
      "outputs": [
        {
          "output_type": "stream",
          "name": "stdout",
          "text": [
            "ACKNOWLEDGEMENT.md  ingest.py\t    pyproject.toml\t run_localGPT.py\n",
            "constants.py\t    LICENSE\t    README.md\t\t SOURCE_DOCUMENTS\n",
            "CONTRIBUTING.md     localGPTUI\t    requirements.txt\n",
            "Dockerfile\t    localGPT_UI.py  run_localGPT_API.py\n",
            "Collecting virtualenv\n",
            "  Downloading virtualenv-20.24.5-py3-none-any.whl (3.7 MB)\n",
            "\u001b[2K     \u001b[90m━━━━━━━━━━━━━━━━━━━━━━━━━━━━━━━━━━━━━━━━\u001b[0m \u001b[32m3.7/3.7 MB\u001b[0m \u001b[31m39.7 MB/s\u001b[0m eta \u001b[36m0:00:00\u001b[0m\n",
            "\u001b[?25hCollecting distlib<1,>=0.3.7 (from virtualenv)\n",
            "  Downloading distlib-0.3.7-py2.py3-none-any.whl (468 kB)\n",
            "\u001b[2K     \u001b[90m━━━━━━━━━━━━━━━━━━━━━━━━━━━━━━━━━━━━━━\u001b[0m \u001b[32m468.9/468.9 kB\u001b[0m \u001b[31m47.3 MB/s\u001b[0m eta \u001b[36m0:00:00\u001b[0m\n",
            "\u001b[?25hRequirement already satisfied: filelock<4,>=3.12.2 in /usr/local/lib/python3.10/dist-packages (from virtualenv) (3.12.2)\n",
            "Requirement already satisfied: platformdirs<4,>=3.9.1 in /usr/local/lib/python3.10/dist-packages (from virtualenv) (3.10.0)\n",
            "Installing collected packages: distlib, virtualenv\n",
            "Successfully installed distlib-0.3.7 virtualenv-20.24.5\n"
          ]
        }
      ],
      "source": [
        "!cd $workDir/localGPT && ls && pip install virtualenv"
      ]
    },
    {
      "cell_type": "markdown",
      "metadata": {
        "id": "7XuWmXCeToS5"
      },
      "source": [
        "### 1.4  激活虚拟环境并安装 python 依赖"
      ]
    },
    {
      "cell_type": "code",
      "execution_count": 17,
      "metadata": {
        "colab": {
          "base_uri": "https://localhost:8080/"
        },
        "id": "rk2xOQhD_Ehg",
        "outputId": "2ad93b62-72f0-493a-99f1-0fa2269d8a2b"
      },
      "outputs": [
        {
          "output_type": "stream",
          "name": "stdout",
          "text": [
            "created virtual environment CPython3.10.12.final.0-64 in 5955ms\n",
            "  creator CPython3Posix(dest=/content/drive/MyDrive/localGPT/venv, clear=False, no_vcs_ignore=False, global=False)\n",
            "  seeder FromAppData(download=False, pip=bundle, setuptools=bundle, wheel=bundle, via=copy, app_data_dir=/root/.local/share/virtualenv)\n",
            "    added seed packages: Faker==19.6.0, GitPython==3.1.35, InstructorEmbedding==1.0.1, Jinja2==3.1.2, Markdown==3.4.4, MarkupSafe==2.1.3, Pillow==9.5.0, PyPika==0.48.9, PyYAML==6.0.1, Pygments==2.16.1, Pympler==1.0.1, SQLAlchemy==2.0.20, aiohttp==3.8.5, aiosignal==1.3.1, altair==5.1.1, anyio==4.0.0, async_timeout==4.0.3, attrs==23.1.0, backoff==2.2.1, beautifulsoup4==4.12.2, bitsandbytes==0.41.1, blinker==1.6.2, cachetools==5.3.1, certifi==2023.7.22, cffi==1.15.1, chardet==5.2.0, charset_normalizer==3.2.0, chroma_hnswlib==0.7.2, chromadb==0.4.6, click==8.1.7, cmake==3.27.4.1, coloredlogs==15.0.1, contourpy==1.1.0, cryptography==41.0.3, cycler==0.11.0, dataclasses_json==0.5.14, datasets==2.14.5, dill==0.3.7, diskcache==5.6.3, docx2txt==0.8, emoji==2.8.0, et_xmlfile==1.1.0, exceptiongroup==1.1.3, faiss_cpu==1.7.4, fastapi==0.99.1, favicon==0.7.0, filelock==3.12.3, filetype==1.2.0, flask==2.3.3, flatbuffers==23.5.26, fonttools==4.42.1, frozenlist==1.4.0, fsspec==2023.6.0, gitdb==4.0.10, greenlet==2.0.2, h11==0.14.0, htbuilder==0.6.2, httptools==0.6.0, huggingface_hub==0.16.4, humanfriendly==10.0, idna==3.4, importlib_metadata==6.8.0, importlib_resources==6.0.1, itsdangerous==2.1.2, joblib==1.3.2, jsonschema==4.19.0, jsonschema_specifications==2023.7.1, kiwisolver==1.4.5, langchain==0.0.267, langsmith==0.0.35, lit==16.0.6, llama_cpp_python==0.1.78, lxml==4.9.3, markdown_it_py==3.0.0, marshmallow==3.20.1, matplotlib==3.7.2, mdurl==0.1.2, monotonic==1.6, more_itertools==10.1.0, mpmath==1.3.0, multidict==6.0.4, multiprocess==0.70.15, mypy_extensions==1.0.0, networkx==3.1, nltk==3.8.1, numexpr==2.8.5, numpy==1.25.2, nvidia_cublas_cu11==11.10.3.66, nvidia_cuda_cupti_cu11==11.7.101, nvidia_cuda_nvrtc_cu11==11.7.99, nvidia_cuda_runtime_cu11==11.7.99, nvidia_cudnn_cu11==8.5.0.96, nvidia_cufft_cu11==10.9.0.58, nvidia_curand_cu11==10.2.10.91, nvidia_cusolver_cu11==11.4.0.1, nvidia_cusparse_cu11==11.7.4.91, nvidia_nccl_cu11==2.14.3, nvidia_nvtx_cu11==11.7.91, onnxruntime==1.15.1, openapi_schema_pydantic==1.2.4, openpyxl==3.1.2, overrides==7.4.0, packaging==23.1, pandas==2.1.0, pdfminer.six==20221105, pip==23.2.1, posthog==3.0.2, protobuf==3.20.0, psutil==5.9.5, pulsar_client==3.3.0, pyarrow==13.0.0, pycparser==2.21, pydantic==1.10.12, pydeck==0.8.0, pymdown_extensions==10.3, pyparsing==3.0.9, python_dateutil==2.8.2, python_dotenv==1.0.0, python_magic==0.4.27, pytz==2023.3.post1, pytz_deprecation_shim==0.1.0.post0, referencing==0.30.2, regex==2023.8.8, requests==2.31.0, rich==13.5.2, rouge==1.0.1, rpds_py==0.10.2, safetensors==0.3.3, scikit_learn==1.3.0, scipy==1.11.2, sentencepiece==0.1.99, setuptools==68.2.0, six==1.16.0, smmap==5.0.0, sniffio==1.3.0, soupsieve==2.5, st_annotated_text==4.0.1, starlette==0.27.0, streamlit==1.26.0, streamlit_camera_input_live==0.2.0, streamlit_card==0.0.61, streamlit_embedcode==0.1.2, streamlit_image_coordinates==0.1.6, streamlit_keyup==0.2.0, streamlit_toggle_switch==1.0.2, streamlit_vertical_slider==1.0.2, sympy==1.12, tabulate==0.9.0, tenacity==8.2.3, threadpoolctl==3.2.0, tokenizers==0.13.3, toml==0.10.2, toolz==0.12.0, tornado==6.3.3, tqdm==4.66.1, transformers==4.33.1, triton==2.0.0, typing_extensions==4.7.1, typing_inspect==0.9.0, tzdata==2023.3, tzlocal==4.3.1, unstructured==0.10.12, urllib3==1.26.6, uvicorn==0.23.2, uvloop==0.17.0, validators==0.22.0, watchdog==3.0.0, watchfiles==0.20.0, websockets==11.0.3, werkzeug==2.3.7, wheel==0.41.2, xxhash==3.3.0, yarl==1.9.2, zipp==3.16.2\n",
            "  activators BashActivator,CShellActivator,FishActivator,NushellActivator,PowerShellActivator,PythonActivator\n",
            "Ignoring protobuf: markers 'sys_platform == \"darwin\" and platform_machine != \"arm64\"' don't match your environment\n",
            "Ignoring protobuf: markers 'sys_platform == \"darwin\" and platform_machine == \"arm64\"' don't match your environment\n",
            "Ignoring bitsandbytes-windows: markers 'sys_platform == \"win32\"' don't match your environment\n",
            "Requirement already satisfied: langchain==0.0.267 in ./venv/lib/python3.10/site-packages (from -r requirements.txt (line 2)) (0.0.267)\n",
            "Requirement already satisfied: chromadb==0.4.6 in ./venv/lib/python3.10/site-packages (from -r requirements.txt (line 3)) (0.4.6)\n",
            "Requirement already satisfied: llama-cpp-python==0.1.78 in ./venv/lib/python3.10/site-packages (from -r requirements.txt (line 4)) (0.1.78)\n",
            "Requirement already satisfied: pdfminer.six==20221105 in ./venv/lib/python3.10/site-packages (from -r requirements.txt (line 5)) (20221105)\n",
            "Requirement already satisfied: InstructorEmbedding in ./venv/lib/python3.10/site-packages (from -r requirements.txt (line 6)) (1.0.1)\n",
            "Collecting sentence-transformers (from -r requirements.txt (line 7))\n",
            "  Using cached sentence_transformers-2.2.2-py3-none-any.whl\n",
            "Requirement already satisfied: faiss-cpu in ./venv/lib/python3.10/site-packages (from -r requirements.txt (line 8)) (1.7.4)\n",
            "Requirement already satisfied: huggingface_hub in ./venv/lib/python3.10/site-packages (from -r requirements.txt (line 9)) (0.16.4)\n",
            "Requirement already satisfied: transformers in ./venv/lib/python3.10/site-packages (from -r requirements.txt (line 10)) (4.33.1)\n",
            "Requirement already satisfied: protobuf==3.20.0 in ./venv/lib/python3.10/site-packages (from -r requirements.txt (line 11)) (3.20.0)\n",
            "Collecting auto-gptq==0.2.2 (from -r requirements.txt (line 14))\n",
            "  Using cached auto_gptq-0.2.2-py3-none-any.whl\n",
            "Requirement already satisfied: docx2txt in ./venv/lib/python3.10/site-packages (from -r requirements.txt (line 15)) (0.8)\n",
            "Requirement already satisfied: unstructured in ./venv/lib/python3.10/site-packages (from -r requirements.txt (line 16)) (0.10.12)\n",
            "Requirement already satisfied: urllib3==1.26.6 in ./venv/lib/python3.10/site-packages (from -r requirements.txt (line 19)) (1.26.6)\n",
            "Collecting accelerate (from -r requirements.txt (line 20))\n",
            "  Obtaining dependency information for accelerate from https://files.pythonhosted.org/packages/4d/a7/05c67003d659a0035f2b3a8cf389c1d9645865aee84a73ce99ddab16682f/accelerate-0.22.0-py3-none-any.whl.metadata\n",
            "  Using cached accelerate-0.22.0-py3-none-any.whl.metadata (17 kB)\n",
            "Requirement already satisfied: bitsandbytes in ./venv/lib/python3.10/site-packages (from -r requirements.txt (line 21)) (0.41.1)\n",
            "Requirement already satisfied: click in ./venv/lib/python3.10/site-packages (from -r requirements.txt (line 23)) (8.1.7)\n",
            "Requirement already satisfied: flask in ./venv/lib/python3.10/site-packages (from -r requirements.txt (line 24)) (2.3.3)\n",
            "Requirement already satisfied: requests in ./venv/lib/python3.10/site-packages (from -r requirements.txt (line 25)) (2.31.0)\n",
            "Requirement already satisfied: streamlit in ./venv/lib/python3.10/site-packages (from -r requirements.txt (line 28)) (1.26.0)\n",
            "Collecting Streamlit-extras (from -r requirements.txt (line 29))\n",
            "  Obtaining dependency information for Streamlit-extras from https://files.pythonhosted.org/packages/45/43/d47c57418b1b69fde92d603db009d00eb3e97264384a81b9769ab9d1a961/streamlit_extras-0.3.2-py3-none-any.whl.metadata\n",
            "  Using cached streamlit_extras-0.3.2-py3-none-any.whl.metadata (3.9 kB)\n",
            "Requirement already satisfied: openpyxl in ./venv/lib/python3.10/site-packages (from -r requirements.txt (line 32)) (3.1.2)\n",
            "Requirement already satisfied: PyYAML>=5.3 in ./venv/lib/python3.10/site-packages (from langchain==0.0.267->-r requirements.txt (line 2)) (6.0.1)\n",
            "Requirement already satisfied: SQLAlchemy<3,>=1.4 in ./venv/lib/python3.10/site-packages (from langchain==0.0.267->-r requirements.txt (line 2)) (2.0.20)\n",
            "Requirement already satisfied: aiohttp<4.0.0,>=3.8.3 in ./venv/lib/python3.10/site-packages (from langchain==0.0.267->-r requirements.txt (line 2)) (3.8.5)\n",
            "Requirement already satisfied: async-timeout<5.0.0,>=4.0.0 in ./venv/lib/python3.10/site-packages (from langchain==0.0.267->-r requirements.txt (line 2)) (4.0.3)\n",
            "Requirement already satisfied: dataclasses-json<0.6.0,>=0.5.7 in ./venv/lib/python3.10/site-packages (from langchain==0.0.267->-r requirements.txt (line 2)) (0.5.14)\n",
            "Requirement already satisfied: langsmith<0.1.0,>=0.0.21 in ./venv/lib/python3.10/site-packages (from langchain==0.0.267->-r requirements.txt (line 2)) (0.0.35)\n",
            "Requirement already satisfied: numexpr<3.0.0,>=2.8.4 in ./venv/lib/python3.10/site-packages (from langchain==0.0.267->-r requirements.txt (line 2)) (2.8.5)\n",
            "Requirement already satisfied: numpy<2,>=1 in ./venv/lib/python3.10/site-packages (from langchain==0.0.267->-r requirements.txt (line 2)) (1.25.2)\n",
            "Requirement already satisfied: openapi-schema-pydantic<2.0,>=1.2 in ./venv/lib/python3.10/site-packages (from langchain==0.0.267->-r requirements.txt (line 2)) (1.2.4)\n",
            "Requirement already satisfied: pydantic<3,>=1 in ./venv/lib/python3.10/site-packages (from langchain==0.0.267->-r requirements.txt (line 2)) (1.10.12)\n",
            "Requirement already satisfied: tenacity<9.0.0,>=8.1.0 in ./venv/lib/python3.10/site-packages (from langchain==0.0.267->-r requirements.txt (line 2)) (8.2.3)\n",
            "Requirement already satisfied: chroma-hnswlib==0.7.2 in ./venv/lib/python3.10/site-packages (from chromadb==0.4.6->-r requirements.txt (line 3)) (0.7.2)\n",
            "Requirement already satisfied: fastapi<0.100.0,>=0.95.2 in ./venv/lib/python3.10/site-packages (from chromadb==0.4.6->-r requirements.txt (line 3)) (0.99.1)\n",
            "Requirement already satisfied: uvicorn[standard]>=0.18.3 in ./venv/lib/python3.10/site-packages (from chromadb==0.4.6->-r requirements.txt (line 3)) (0.23.2)\n",
            "Requirement already satisfied: posthog>=2.4.0 in ./venv/lib/python3.10/site-packages (from chromadb==0.4.6->-r requirements.txt (line 3)) (3.0.2)\n",
            "Requirement already satisfied: typing-extensions>=4.5.0 in ./venv/lib/python3.10/site-packages (from chromadb==0.4.6->-r requirements.txt (line 3)) (4.7.1)\n",
            "Requirement already satisfied: pulsar-client>=3.1.0 in ./venv/lib/python3.10/site-packages (from chromadb==0.4.6->-r requirements.txt (line 3)) (3.3.0)\n",
            "Requirement already satisfied: onnxruntime>=1.14.1 in ./venv/lib/python3.10/site-packages (from chromadb==0.4.6->-r requirements.txt (line 3)) (1.15.1)\n",
            "Requirement already satisfied: tokenizers>=0.13.2 in ./venv/lib/python3.10/site-packages (from chromadb==0.4.6->-r requirements.txt (line 3)) (0.13.3)\n",
            "Requirement already satisfied: pypika>=0.48.9 in ./venv/lib/python3.10/site-packages (from chromadb==0.4.6->-r requirements.txt (line 3)) (0.48.9)\n",
            "Requirement already satisfied: tqdm>=4.65.0 in ./venv/lib/python3.10/site-packages (from chromadb==0.4.6->-r requirements.txt (line 3)) (4.66.1)\n",
            "Requirement already satisfied: overrides>=7.3.1 in ./venv/lib/python3.10/site-packages (from chromadb==0.4.6->-r requirements.txt (line 3)) (7.4.0)\n",
            "Requirement already satisfied: importlib-resources in ./venv/lib/python3.10/site-packages (from chromadb==0.4.6->-r requirements.txt (line 3)) (6.0.1)\n",
            "Requirement already satisfied: diskcache>=5.6.1 in ./venv/lib/python3.10/site-packages (from llama-cpp-python==0.1.78->-r requirements.txt (line 4)) (5.6.3)\n",
            "Requirement already satisfied: charset-normalizer>=2.0.0 in ./venv/lib/python3.10/site-packages (from pdfminer.six==20221105->-r requirements.txt (line 5)) (3.2.0)\n",
            "Requirement already satisfied: cryptography>=36.0.0 in ./venv/lib/python3.10/site-packages (from pdfminer.six==20221105->-r requirements.txt (line 5)) (41.0.3)\n",
            "Requirement already satisfied: datasets in ./venv/lib/python3.10/site-packages (from auto-gptq==0.2.2->-r requirements.txt (line 14)) (2.14.5)\n",
            "Requirement already satisfied: rouge in ./venv/lib/python3.10/site-packages (from auto-gptq==0.2.2->-r requirements.txt (line 14)) (1.0.1)\n",
            "Collecting torch>=1.13.0 (from auto-gptq==0.2.2->-r requirements.txt (line 14))\n",
            "  Using cached torch-2.0.1-cp310-cp310-manylinux1_x86_64.whl (619.9 MB)\n",
            "Requirement already satisfied: safetensors in ./venv/lib/python3.10/site-packages (from auto-gptq==0.2.2->-r requirements.txt (line 14)) (0.3.3)\n",
            "Collecting torchvision (from sentence-transformers->-r requirements.txt (line 7))\n",
            "  Using cached torchvision-0.15.2-cp310-cp310-manylinux1_x86_64.whl (6.0 MB)\n",
            "Requirement already satisfied: scikit-learn in ./venv/lib/python3.10/site-packages (from sentence-transformers->-r requirements.txt (line 7)) (1.3.0)\n",
            "Requirement already satisfied: scipy in ./venv/lib/python3.10/site-packages (from sentence-transformers->-r requirements.txt (line 7)) (1.11.2)\n",
            "Requirement already satisfied: nltk in ./venv/lib/python3.10/site-packages (from sentence-transformers->-r requirements.txt (line 7)) (3.8.1)\n",
            "Requirement already satisfied: sentencepiece in ./venv/lib/python3.10/site-packages (from sentence-transformers->-r requirements.txt (line 7)) (0.1.99)\n",
            "Requirement already satisfied: filelock in ./venv/lib/python3.10/site-packages (from huggingface_hub->-r requirements.txt (line 9)) (3.12.3)\n",
            "Requirement already satisfied: fsspec in ./venv/lib/python3.10/site-packages (from huggingface_hub->-r requirements.txt (line 9)) (2023.6.0)\n",
            "Requirement already satisfied: packaging>=20.9 in ./venv/lib/python3.10/site-packages (from huggingface_hub->-r requirements.txt (line 9)) (23.1)\n",
            "Requirement already satisfied: regex!=2019.12.17 in ./venv/lib/python3.10/site-packages (from transformers->-r requirements.txt (line 10)) (2023.8.8)\n",
            "Requirement already satisfied: chardet in ./venv/lib/python3.10/site-packages (from unstructured->-r requirements.txt (line 16)) (5.2.0)\n",
            "Requirement already satisfied: filetype in ./venv/lib/python3.10/site-packages (from unstructured->-r requirements.txt (line 16)) (1.2.0)\n",
            "Requirement already satisfied: python-magic in ./venv/lib/python3.10/site-packages (from unstructured->-r requirements.txt (line 16)) (0.4.27)\n",
            "Requirement already satisfied: lxml in ./venv/lib/python3.10/site-packages (from unstructured->-r requirements.txt (line 16)) (4.9.3)\n",
            "Requirement already satisfied: tabulate in ./venv/lib/python3.10/site-packages (from unstructured->-r requirements.txt (line 16)) (0.9.0)\n",
            "Requirement already satisfied: beautifulsoup4 in ./venv/lib/python3.10/site-packages (from unstructured->-r requirements.txt (line 16)) (4.12.2)\n",
            "Requirement already satisfied: emoji in ./venv/lib/python3.10/site-packages (from unstructured->-r requirements.txt (line 16)) (2.8.0)\n",
            "Requirement already satisfied: psutil in ./venv/lib/python3.10/site-packages (from accelerate->-r requirements.txt (line 20)) (5.9.5)\n",
            "Requirement already satisfied: Werkzeug>=2.3.7 in ./venv/lib/python3.10/site-packages (from flask->-r requirements.txt (line 24)) (2.3.7)\n",
            "Requirement already satisfied: Jinja2>=3.1.2 in ./venv/lib/python3.10/site-packages (from flask->-r requirements.txt (line 24)) (3.1.2)\n",
            "Requirement already satisfied: itsdangerous>=2.1.2 in ./venv/lib/python3.10/site-packages (from flask->-r requirements.txt (line 24)) (2.1.2)\n",
            "Requirement already satisfied: blinker>=1.6.2 in ./venv/lib/python3.10/site-packages (from flask->-r requirements.txt (line 24)) (1.6.2)\n",
            "Requirement already satisfied: idna<4,>=2.5 in ./venv/lib/python3.10/site-packages (from requests->-r requirements.txt (line 25)) (3.4)\n",
            "Requirement already satisfied: certifi>=2017.4.17 in ./venv/lib/python3.10/site-packages (from requests->-r requirements.txt (line 25)) (2023.7.22)\n",
            "Requirement already satisfied: altair<6,>=4.0 in ./venv/lib/python3.10/site-packages (from streamlit->-r requirements.txt (line 28)) (5.1.1)\n",
            "Requirement already satisfied: cachetools<6,>=4.0 in ./venv/lib/python3.10/site-packages (from streamlit->-r requirements.txt (line 28)) (5.3.1)\n",
            "Requirement already satisfied: importlib-metadata<7,>=1.4 in ./venv/lib/python3.10/site-packages (from streamlit->-r requirements.txt (line 28)) (6.8.0)\n",
            "Requirement already satisfied: pandas<3,>=1.3.0 in ./venv/lib/python3.10/site-packages (from streamlit->-r requirements.txt (line 28)) (2.1.0)\n",
            "Requirement already satisfied: pillow<10,>=7.1.0 in ./venv/lib/python3.10/site-packages (from streamlit->-r requirements.txt (line 28)) (9.5.0)\n",
            "Requirement already satisfied: pyarrow>=6.0 in ./venv/lib/python3.10/site-packages (from streamlit->-r requirements.txt (line 28)) (13.0.0)\n",
            "Requirement already satisfied: pympler<2,>=0.9 in ./venv/lib/python3.10/site-packages (from streamlit->-r requirements.txt (line 28)) (1.0.1)\n",
            "Requirement already satisfied: python-dateutil<3,>=2.7.3 in ./venv/lib/python3.10/site-packages (from streamlit->-r requirements.txt (line 28)) (2.8.2)\n",
            "Requirement already satisfied: rich<14,>=10.14.0 in ./venv/lib/python3.10/site-packages (from streamlit->-r requirements.txt (line 28)) (13.5.2)\n",
            "Requirement already satisfied: toml<2,>=0.10.1 in ./venv/lib/python3.10/site-packages (from streamlit->-r requirements.txt (line 28)) (0.10.2)\n",
            "Requirement already satisfied: tzlocal<5,>=1.1 in ./venv/lib/python3.10/site-packages (from streamlit->-r requirements.txt (line 28)) (4.3.1)\n",
            "Requirement already satisfied: validators<1,>=0.2 in ./venv/lib/python3.10/site-packages (from streamlit->-r requirements.txt (line 28)) (0.22.0)\n",
            "Requirement already satisfied: gitpython!=3.1.19,<4,>=3.0.7 in ./venv/lib/python3.10/site-packages (from streamlit->-r requirements.txt (line 28)) (3.1.35)\n",
            "Requirement already satisfied: pydeck<1,>=0.8 in ./venv/lib/python3.10/site-packages (from streamlit->-r requirements.txt (line 28)) (0.8.0)\n",
            "Requirement already satisfied: tornado<7,>=6.0.3 in ./venv/lib/python3.10/site-packages (from streamlit->-r requirements.txt (line 28)) (6.3.3)\n",
            "Requirement already satisfied: watchdog>=2.1.5 in ./venv/lib/python3.10/site-packages (from streamlit->-r requirements.txt (line 28)) (3.0.0)\n",
            "Requirement already satisfied: htbuilder>=0.6.2 in ./venv/lib/python3.10/site-packages (from Streamlit-extras->-r requirements.txt (line 29)) (0.6.2)\n",
            "Collecting markdownlit>=0.0.5 (from Streamlit-extras->-r requirements.txt (line 29))\n",
            "  Using cached markdownlit-0.0.7-py3-none-any.whl (15 kB)\n",
            "Requirement already satisfied: st-annotated-text>=3.0.0 in ./venv/lib/python3.10/site-packages (from Streamlit-extras->-r requirements.txt (line 29)) (4.0.1)\n",
            "Requirement already satisfied: streamlit-camera-input-live>=0.2.0 in ./venv/lib/python3.10/site-packages (from Streamlit-extras->-r requirements.txt (line 29)) (0.2.0)\n",
            "Requirement already satisfied: streamlit-card>=0.0.4 in ./venv/lib/python3.10/site-packages (from Streamlit-extras->-r requirements.txt (line 29)) (0.0.61)\n",
            "Requirement already satisfied: streamlit-embedcode>=0.1.2 in ./venv/lib/python3.10/site-packages (from Streamlit-extras->-r requirements.txt (line 29)) (0.1.2)\n",
            "Collecting streamlit-faker>=0.0.2 (from Streamlit-extras->-r requirements.txt (line 29))\n",
            "  Using cached streamlit_faker-0.0.2-py3-none-any.whl (9.8 kB)\n",
            "Requirement already satisfied: streamlit-image-coordinates<0.2.0,>=0.1.1 in ./venv/lib/python3.10/site-packages (from Streamlit-extras->-r requirements.txt (line 29)) (0.1.6)\n",
            "Requirement already satisfied: streamlit-keyup>=0.1.9 in ./venv/lib/python3.10/site-packages (from Streamlit-extras->-r requirements.txt (line 29)) (0.2.0)\n",
            "Requirement already satisfied: streamlit-toggle-switch>=1.0.2 in ./venv/lib/python3.10/site-packages (from Streamlit-extras->-r requirements.txt (line 29)) (1.0.2)\n",
            "Requirement already satisfied: streamlit-vertical-slider>=1.0.2 in ./venv/lib/python3.10/site-packages (from Streamlit-extras->-r requirements.txt (line 29)) (1.0.2)\n",
            "Requirement already satisfied: et-xmlfile in ./venv/lib/python3.10/site-packages (from openpyxl->-r requirements.txt (line 32)) (1.1.0)\n",
            "Requirement already satisfied: attrs>=17.3.0 in ./venv/lib/python3.10/site-packages (from aiohttp<4.0.0,>=3.8.3->langchain==0.0.267->-r requirements.txt (line 2)) (23.1.0)\n",
            "Requirement already satisfied: multidict<7.0,>=4.5 in ./venv/lib/python3.10/site-packages (from aiohttp<4.0.0,>=3.8.3->langchain==0.0.267->-r requirements.txt (line 2)) (6.0.4)\n",
            "Requirement already satisfied: yarl<2.0,>=1.0 in ./venv/lib/python3.10/site-packages (from aiohttp<4.0.0,>=3.8.3->langchain==0.0.267->-r requirements.txt (line 2)) (1.9.2)\n",
            "Requirement already satisfied: frozenlist>=1.1.1 in ./venv/lib/python3.10/site-packages (from aiohttp<4.0.0,>=3.8.3->langchain==0.0.267->-r requirements.txt (line 2)) (1.4.0)\n",
            "Requirement already satisfied: aiosignal>=1.1.2 in ./venv/lib/python3.10/site-packages (from aiohttp<4.0.0,>=3.8.3->langchain==0.0.267->-r requirements.txt (line 2)) (1.3.1)\n",
            "Requirement already satisfied: jsonschema>=3.0 in ./venv/lib/python3.10/site-packages (from altair<6,>=4.0->streamlit->-r requirements.txt (line 28)) (4.19.0)\n",
            "Requirement already satisfied: toolz in ./venv/lib/python3.10/site-packages (from altair<6,>=4.0->streamlit->-r requirements.txt (line 28)) (0.12.0)\n",
            "Requirement already satisfied: cffi>=1.12 in ./venv/lib/python3.10/site-packages (from cryptography>=36.0.0->pdfminer.six==20221105->-r requirements.txt (line 5)) (1.15.1)\n",
            "Requirement already satisfied: marshmallow<4.0.0,>=3.18.0 in ./venv/lib/python3.10/site-packages (from dataclasses-json<0.6.0,>=0.5.7->langchain==0.0.267->-r requirements.txt (line 2)) (3.20.1)\n",
            "Requirement already satisfied: typing-inspect<1,>=0.4.0 in ./venv/lib/python3.10/site-packages (from dataclasses-json<0.6.0,>=0.5.7->langchain==0.0.267->-r requirements.txt (line 2)) (0.9.0)\n",
            "Requirement already satisfied: starlette<0.28.0,>=0.27.0 in ./venv/lib/python3.10/site-packages (from fastapi<0.100.0,>=0.95.2->chromadb==0.4.6->-r requirements.txt (line 3)) (0.27.0)\n",
            "Requirement already satisfied: gitdb<5,>=4.0.1 in ./venv/lib/python3.10/site-packages (from gitpython!=3.1.19,<4,>=3.0.7->streamlit->-r requirements.txt (line 28)) (4.0.10)\n",
            "Requirement already satisfied: more-itertools in ./venv/lib/python3.10/site-packages (from htbuilder>=0.6.2->Streamlit-extras->-r requirements.txt (line 29)) (10.1.0)\n",
            "Requirement already satisfied: zipp>=0.5 in ./venv/lib/python3.10/site-packages (from importlib-metadata<7,>=1.4->streamlit->-r requirements.txt (line 28)) (3.16.2)\n",
            "Requirement already satisfied: MarkupSafe>=2.0 in ./venv/lib/python3.10/site-packages (from Jinja2>=3.1.2->flask->-r requirements.txt (line 24)) (2.1.3)\n",
            "Requirement already satisfied: markdown in ./venv/lib/python3.10/site-packages (from markdownlit>=0.0.5->Streamlit-extras->-r requirements.txt (line 29)) (3.4.4)\n",
            "Requirement already satisfied: favicon in ./venv/lib/python3.10/site-packages (from markdownlit>=0.0.5->Streamlit-extras->-r requirements.txt (line 29)) (0.7.0)\n",
            "Requirement already satisfied: pymdown-extensions in ./venv/lib/python3.10/site-packages (from markdownlit>=0.0.5->Streamlit-extras->-r requirements.txt (line 29)) (10.3)\n",
            "Requirement already satisfied: coloredlogs in ./venv/lib/python3.10/site-packages (from onnxruntime>=1.14.1->chromadb==0.4.6->-r requirements.txt (line 3)) (15.0.1)\n",
            "Requirement already satisfied: flatbuffers in ./venv/lib/python3.10/site-packages (from onnxruntime>=1.14.1->chromadb==0.4.6->-r requirements.txt (line 3)) (23.5.26)\n",
            "Requirement already satisfied: sympy in ./venv/lib/python3.10/site-packages (from onnxruntime>=1.14.1->chromadb==0.4.6->-r requirements.txt (line 3)) (1.12)\n",
            "Requirement already satisfied: pytz>=2020.1 in ./venv/lib/python3.10/site-packages (from pandas<3,>=1.3.0->streamlit->-r requirements.txt (line 28)) (2023.3.post1)\n",
            "Requirement already satisfied: tzdata>=2022.1 in ./venv/lib/python3.10/site-packages (from pandas<3,>=1.3.0->streamlit->-r requirements.txt (line 28)) (2023.3)\n",
            "Requirement already satisfied: six>=1.5 in ./venv/lib/python3.10/site-packages (from posthog>=2.4.0->chromadb==0.4.6->-r requirements.txt (line 3)) (1.16.0)\n",
            "Requirement already satisfied: monotonic>=1.5 in ./venv/lib/python3.10/site-packages (from posthog>=2.4.0->chromadb==0.4.6->-r requirements.txt (line 3)) (1.6)\n",
            "Requirement already satisfied: backoff>=1.10.0 in ./venv/lib/python3.10/site-packages (from posthog>=2.4.0->chromadb==0.4.6->-r requirements.txt (line 3)) (2.2.1)\n",
            "Requirement already satisfied: markdown-it-py>=2.2.0 in ./venv/lib/python3.10/site-packages (from rich<14,>=10.14.0->streamlit->-r requirements.txt (line 28)) (3.0.0)\n",
            "Requirement already satisfied: pygments<3.0.0,>=2.13.0 in ./venv/lib/python3.10/site-packages (from rich<14,>=10.14.0->streamlit->-r requirements.txt (line 28)) (2.16.1)\n",
            "Requirement already satisfied: greenlet!=0.4.17 in ./venv/lib/python3.10/site-packages (from SQLAlchemy<3,>=1.4->langchain==0.0.267->-r requirements.txt (line 2)) (2.0.2)\n",
            "Requirement already satisfied: faker in ./venv/lib/python3.10/site-packages (from streamlit-faker>=0.0.2->Streamlit-extras->-r requirements.txt (line 29)) (19.6.0)\n",
            "Requirement already satisfied: matplotlib in ./venv/lib/python3.10/site-packages (from streamlit-faker>=0.0.2->Streamlit-extras->-r requirements.txt (line 29)) (3.7.2)\n",
            "Requirement already satisfied: networkx in ./venv/lib/python3.10/site-packages (from torch>=1.13.0->auto-gptq==0.2.2->-r requirements.txt (line 14)) (3.1)\n",
            "Requirement already satisfied: nvidia-cuda-nvrtc-cu11==11.7.99 in ./venv/lib/python3.10/site-packages (from torch>=1.13.0->auto-gptq==0.2.2->-r requirements.txt (line 14)) (11.7.99)\n",
            "Requirement already satisfied: nvidia-cuda-runtime-cu11==11.7.99 in ./venv/lib/python3.10/site-packages (from torch>=1.13.0->auto-gptq==0.2.2->-r requirements.txt (line 14)) (11.7.99)\n",
            "Requirement already satisfied: nvidia-cuda-cupti-cu11==11.7.101 in ./venv/lib/python3.10/site-packages (from torch>=1.13.0->auto-gptq==0.2.2->-r requirements.txt (line 14)) (11.7.101)\n",
            "Requirement already satisfied: nvidia-cudnn-cu11==8.5.0.96 in ./venv/lib/python3.10/site-packages (from torch>=1.13.0->auto-gptq==0.2.2->-r requirements.txt (line 14)) (8.5.0.96)\n",
            "Requirement already satisfied: nvidia-cublas-cu11==11.10.3.66 in ./venv/lib/python3.10/site-packages (from torch>=1.13.0->auto-gptq==0.2.2->-r requirements.txt (line 14)) (11.10.3.66)\n",
            "Requirement already satisfied: nvidia-cufft-cu11==10.9.0.58 in ./venv/lib/python3.10/site-packages (from torch>=1.13.0->auto-gptq==0.2.2->-r requirements.txt (line 14)) (10.9.0.58)\n",
            "Requirement already satisfied: nvidia-curand-cu11==10.2.10.91 in ./venv/lib/python3.10/site-packages (from torch>=1.13.0->auto-gptq==0.2.2->-r requirements.txt (line 14)) (10.2.10.91)\n",
            "Requirement already satisfied: nvidia-cusolver-cu11==11.4.0.1 in ./venv/lib/python3.10/site-packages (from torch>=1.13.0->auto-gptq==0.2.2->-r requirements.txt (line 14)) (11.4.0.1)\n",
            "Requirement already satisfied: nvidia-cusparse-cu11==11.7.4.91 in ./venv/lib/python3.10/site-packages (from torch>=1.13.0->auto-gptq==0.2.2->-r requirements.txt (line 14)) (11.7.4.91)\n",
            "Requirement already satisfied: nvidia-nccl-cu11==2.14.3 in ./venv/lib/python3.10/site-packages (from torch>=1.13.0->auto-gptq==0.2.2->-r requirements.txt (line 14)) (2.14.3)\n",
            "Requirement already satisfied: nvidia-nvtx-cu11==11.7.91 in ./venv/lib/python3.10/site-packages (from torch>=1.13.0->auto-gptq==0.2.2->-r requirements.txt (line 14)) (11.7.91)\n",
            "Requirement already satisfied: triton==2.0.0 in ./venv/lib/python3.10/site-packages (from torch>=1.13.0->auto-gptq==0.2.2->-r requirements.txt (line 14)) (2.0.0)\n",
            "Requirement already satisfied: setuptools in ./venv/lib/python3.10/site-packages (from nvidia-cublas-cu11==11.10.3.66->torch>=1.13.0->auto-gptq==0.2.2->-r requirements.txt (line 14)) (68.2.0)\n",
            "Requirement already satisfied: wheel in ./venv/lib/python3.10/site-packages (from nvidia-cublas-cu11==11.10.3.66->torch>=1.13.0->auto-gptq==0.2.2->-r requirements.txt (line 14)) (0.41.2)\n",
            "Requirement already satisfied: cmake in ./venv/lib/python3.10/site-packages (from triton==2.0.0->torch>=1.13.0->auto-gptq==0.2.2->-r requirements.txt (line 14)) (3.27.4.1)\n",
            "Requirement already satisfied: lit in ./venv/lib/python3.10/site-packages (from triton==2.0.0->torch>=1.13.0->auto-gptq==0.2.2->-r requirements.txt (line 14)) (16.0.6)\n",
            "Requirement already satisfied: pytz-deprecation-shim in ./venv/lib/python3.10/site-packages (from tzlocal<5,>=1.1->streamlit->-r requirements.txt (line 28)) (0.1.0.post0)\n",
            "Requirement already satisfied: h11>=0.8 in ./venv/lib/python3.10/site-packages (from uvicorn[standard]>=0.18.3->chromadb==0.4.6->-r requirements.txt (line 3)) (0.14.0)\n",
            "Requirement already satisfied: httptools>=0.5.0 in ./venv/lib/python3.10/site-packages (from uvicorn[standard]>=0.18.3->chromadb==0.4.6->-r requirements.txt (line 3)) (0.6.0)\n",
            "Requirement already satisfied: python-dotenv>=0.13 in ./venv/lib/python3.10/site-packages (from uvicorn[standard]>=0.18.3->chromadb==0.4.6->-r requirements.txt (line 3)) (1.0.0)\n",
            "Requirement already satisfied: uvloop!=0.15.0,!=0.15.1,>=0.14.0 in ./venv/lib/python3.10/site-packages (from uvicorn[standard]>=0.18.3->chromadb==0.4.6->-r requirements.txt (line 3)) (0.17.0)\n",
            "Requirement already satisfied: watchfiles>=0.13 in ./venv/lib/python3.10/site-packages (from uvicorn[standard]>=0.18.3->chromadb==0.4.6->-r requirements.txt (line 3)) (0.20.0)\n",
            "Requirement already satisfied: websockets>=10.4 in ./venv/lib/python3.10/site-packages (from uvicorn[standard]>=0.18.3->chromadb==0.4.6->-r requirements.txt (line 3)) (11.0.3)\n",
            "Requirement already satisfied: soupsieve>1.2 in ./venv/lib/python3.10/site-packages (from beautifulsoup4->unstructured->-r requirements.txt (line 16)) (2.5)\n",
            "Requirement already satisfied: dill<0.3.8,>=0.3.0 in ./venv/lib/python3.10/site-packages (from datasets->auto-gptq==0.2.2->-r requirements.txt (line 14)) (0.3.7)\n",
            "Requirement already satisfied: xxhash in ./venv/lib/python3.10/site-packages (from datasets->auto-gptq==0.2.2->-r requirements.txt (line 14)) (3.3.0)\n",
            "Requirement already satisfied: multiprocess in ./venv/lib/python3.10/site-packages (from datasets->auto-gptq==0.2.2->-r requirements.txt (line 14)) (0.70.15)\n",
            "Requirement already satisfied: joblib in ./venv/lib/python3.10/site-packages (from nltk->sentence-transformers->-r requirements.txt (line 7)) (1.3.2)\n",
            "Requirement already satisfied: threadpoolctl>=2.0.0 in ./venv/lib/python3.10/site-packages (from scikit-learn->sentence-transformers->-r requirements.txt (line 7)) (3.2.0)\n",
            "Requirement already satisfied: pycparser in ./venv/lib/python3.10/site-packages (from cffi>=1.12->cryptography>=36.0.0->pdfminer.six==20221105->-r requirements.txt (line 5)) (2.21)\n",
            "Requirement already satisfied: smmap<6,>=3.0.1 in ./venv/lib/python3.10/site-packages (from gitdb<5,>=4.0.1->gitpython!=3.1.19,<4,>=3.0.7->streamlit->-r requirements.txt (line 28)) (5.0.0)\n",
            "Requirement already satisfied: jsonschema-specifications>=2023.03.6 in ./venv/lib/python3.10/site-packages (from jsonschema>=3.0->altair<6,>=4.0->streamlit->-r requirements.txt (line 28)) (2023.7.1)\n",
            "Requirement already satisfied: referencing>=0.28.4 in ./venv/lib/python3.10/site-packages (from jsonschema>=3.0->altair<6,>=4.0->streamlit->-r requirements.txt (line 28)) (0.30.2)\n",
            "Requirement already satisfied: rpds-py>=0.7.1 in ./venv/lib/python3.10/site-packages (from jsonschema>=3.0->altair<6,>=4.0->streamlit->-r requirements.txt (line 28)) (0.10.2)\n",
            "Requirement already satisfied: mdurl~=0.1 in ./venv/lib/python3.10/site-packages (from markdown-it-py>=2.2.0->rich<14,>=10.14.0->streamlit->-r requirements.txt (line 28)) (0.1.2)\n",
            "Requirement already satisfied: anyio<5,>=3.4.0 in ./venv/lib/python3.10/site-packages (from starlette<0.28.0,>=0.27.0->fastapi<0.100.0,>=0.95.2->chromadb==0.4.6->-r requirements.txt (line 3)) (4.0.0)\n",
            "Requirement already satisfied: mypy-extensions>=0.3.0 in ./venv/lib/python3.10/site-packages (from typing-inspect<1,>=0.4.0->dataclasses-json<0.6.0,>=0.5.7->langchain==0.0.267->-r requirements.txt (line 2)) (1.0.0)\n",
            "Requirement already satisfied: humanfriendly>=9.1 in ./venv/lib/python3.10/site-packages (from coloredlogs->onnxruntime>=1.14.1->chromadb==0.4.6->-r requirements.txt (line 3)) (10.0)\n",
            "Requirement already satisfied: contourpy>=1.0.1 in ./venv/lib/python3.10/site-packages (from matplotlib->streamlit-faker>=0.0.2->Streamlit-extras->-r requirements.txt (line 29)) (1.1.0)\n",
            "Requirement already satisfied: cycler>=0.10 in ./venv/lib/python3.10/site-packages (from matplotlib->streamlit-faker>=0.0.2->Streamlit-extras->-r requirements.txt (line 29)) (0.11.0)\n",
            "Requirement already satisfied: fonttools>=4.22.0 in ./venv/lib/python3.10/site-packages (from matplotlib->streamlit-faker>=0.0.2->Streamlit-extras->-r requirements.txt (line 29)) (4.42.1)\n",
            "Requirement already satisfied: kiwisolver>=1.0.1 in ./venv/lib/python3.10/site-packages (from matplotlib->streamlit-faker>=0.0.2->Streamlit-extras->-r requirements.txt (line 29)) (1.4.5)\n",
            "Requirement already satisfied: pyparsing<3.1,>=2.3.1 in ./venv/lib/python3.10/site-packages (from matplotlib->streamlit-faker>=0.0.2->Streamlit-extras->-r requirements.txt (line 29)) (3.0.9)\n",
            "Requirement already satisfied: mpmath>=0.19 in ./venv/lib/python3.10/site-packages (from sympy->onnxruntime>=1.14.1->chromadb==0.4.6->-r requirements.txt (line 3)) (1.3.0)\n",
            "Requirement already satisfied: sniffio>=1.1 in ./venv/lib/python3.10/site-packages (from anyio<5,>=3.4.0->starlette<0.28.0,>=0.27.0->fastapi<0.100.0,>=0.95.2->chromadb==0.4.6->-r requirements.txt (line 3)) (1.3.0)\n",
            "Requirement already satisfied: exceptiongroup>=1.0.2 in ./venv/lib/python3.10/site-packages (from anyio<5,>=3.4.0->starlette<0.28.0,>=0.27.0->fastapi<0.100.0,>=0.95.2->chromadb==0.4.6->-r requirements.txt (line 3)) (1.1.3)\n",
            "Using cached accelerate-0.22.0-py3-none-any.whl (251 kB)\n",
            "Using cached streamlit_extras-0.3.2-py3-none-any.whl (64 kB)\n",
            "Installing collected packages: torch, torchvision, streamlit-faker, markdownlit, accelerate, Streamlit-extras, sentence-transformers, auto-gptq\n",
            "Successfully installed Streamlit-extras-0.3.2 accelerate-0.22.0 auto-gptq-0.2.2 markdownlit-0.0.7 sentence-transformers-2.2.2 streamlit-faker-0.0.2 torch-2.0.1 torchvision-0.15.2\n"
          ]
        }
      ],
      "source": [
        "!cd $workDir/localGPT && ls && virtualenv venv && source venv/bin/activate && pip install -r requirements.txt"
      ]
    },
    {
      "cell_type": "code",
      "source": [
        "!cd $workDir/localGPT && source venv/bin/activate && python test.py"
      ],
      "metadata": {
        "colab": {
          "base_uri": "https://localhost:8080/"
        },
        "id": "Ku3jWoIWpg2F",
        "outputId": "79778dcf-8dd6-4cf0-f312-d1f99e36436f"
      },
      "execution_count": 19,
      "outputs": [
        {
          "output_type": "stream",
          "name": "stdout",
          "text": [
            "Loading checkpoint shards: 100% 2/2 [00:11<00:00,  5.85s/it]\n",
            "/content/drive/MyDrive/localGPT/venv/lib/python3.10/site-packages/transformers/generation/configuration_utils.py:362: UserWarning: `do_sample` is set to `False`. However, `temperature` is set to `0.3` -- this flag is only used in sample-based generation modes. You should set `do_sample=True` or unset `temperature`. This was detected when initializing the generation config instance, which means the corresponding file may hold incorrect parameterization and should be fixed.\n",
            "  warnings.warn(\n",
            "/content/drive/MyDrive/localGPT/venv/lib/python3.10/site-packages/transformers/generation/configuration_utils.py:367: UserWarning: `do_sample` is set to `False`. However, `top_p` is set to `0.95` -- this flag is only used in sample-based generation modes. You should set `do_sample=True` or unset `top_p`. This was detected when initializing the generation config instance, which means the corresponding file may hold incorrect parameterization and should be fixed.\n",
            "  warnings.warn(\n",
            "/content/drive/MyDrive/localGPT/venv/lib/python3.10/site-packages/transformers/generation/utils.py:1417: UserWarning: You have modified the pretrained model configuration to control generation. This is a deprecated strategy to control generation and will be removed soon, in a future version. Please use a generation configuration file (see https://huggingface.co/docs/transformers/main_classes/text_generation )\n",
            "  warnings.warn(\n",
            "<s> Human: 鲁迅和周树人是不是同一个人？\n",
            "</s><s> Assistant: 是的，鲁迅（1872年-1936年）和周树人都是中国著名的作家、思想家和教育家。他们虽然名字相同，但是并不是同一个人。\n",
            "\n",
            "鲁迅生于江苏常州一个书香门第的家庭中，早年就读于南京高等师范学校，后来留学日本东京帝国大学文学系。回国后创办了《新青年》杂志并担任主编，成为中国现代文化运动的重要推动者之一。他创作的长篇小说《阿Q正传》被誉为“中国的卡夫卡”，影响了一代中国人的思想观念和行为方式。此外他还著有散文集《呐喊》等作品，对中国文学史有着重要的地位。\n",
            "\n",
            "与此同时，周树人也是一位杰出的文学家和政治活动家。他是安徽绩溪人，毕业于北京协和医学院医学专业，后投身革命事业，曾参加辛亥革命及北伐战争等重要历史事件。他在文坛上以诗歌为主攻方向，代表作有长诗《春水歌行》以及诗集《秋声赋序》等。他的创作风格清新隽永，对后世的影响深远。\n",
            "\n",
            "尽管两人的名字相似且都是优秀的文艺工作者，但他们的人生轨迹和生活经历却截然不同。因此可以说他们是不同的两个人物形象，而不是一个人的不同称呼或身份转换。\n",
            "</s>\n"
          ]
        }
      ]
    },
    {
      "cell_type": "markdown",
      "metadata": {
        "id": "6TPHRvwIWSvo"
      },
      "source": [
        "##2. 快速开始"
      ]
    },
    {
      "cell_type": "markdown",
      "metadata": {
        "id": "jkAKeMVhTuAv"
      },
      "source": [
        "### 2.1 摄入文档"
      ]
    },
    {
      "cell_type": "markdown",
      "metadata": {
        "id": "Kr2YcEDkXTuZ"
      },
      "source": [
        "将需处理的知识库文档写入目录$workDir/localGPT/SOURCE_DOCUMENTS/"
      ]
    },
    {
      "cell_type": "code",
      "execution_count": null,
      "metadata": {
        "colab": {
          "background_save": true,
          "base_uri": "https://localhost:8080/"
        },
        "id": "MMspem5QBKeg",
        "outputId": "fa785247-89f9-429f-95d9-f24cbe3781da"
      },
      "outputs": [
        {
          "name": "stdout",
          "output_type": "stream",
          "text": [
            "2023-09-07 04:02:25,635 - INFO - ingest.py:121 - Loading documents from /content/drive/MyDrive/localGPT/SOURCE_DOCUMENTS\n",
            "2023-09-07 04:02:25,663 - INFO - ingest.py:34 - Loading document batch\n",
            "2023-09-07 04:02:28,336 - INFO - ingest.py:130 - Loaded 1 documents from /content/drive/MyDrive/localGPT/SOURCE_DOCUMENTS\n",
            "2023-09-07 04:02:28,337 - INFO - ingest.py:131 - Split into 72 chunks of text\n",
            "2023-09-07 04:02:36,413 - INFO - SentenceTransformer.py:66 - Load pretrained SentenceTransformer: hkunlp/instructor-large\n",
            "Downloading (…)c7233/.gitattributes: 100% 1.48k/1.48k [00:00<00:00, 5.45MB/s]\n",
            "Downloading (…)_Pooling/config.json: 100% 270/270 [00:00<00:00, 1.07MB/s]\n",
            "Downloading (…)/2_Dense/config.json: 100% 116/116 [00:00<00:00, 362kB/s]\n",
            "Downloading pytorch_model.bin: 100% 3.15M/3.15M [00:01<00:00, 2.31MB/s]\n",
            "Downloading (…)9fb15c7233/README.md: 100% 66.3k/66.3k [00:00<00:00, 342kB/s]\n",
            "Downloading (…)b15c7233/config.json: 100% 1.53k/1.53k [00:00<00:00, 6.41MB/s]\n",
            "Downloading (…)ce_transformers.json: 100% 122/122 [00:00<00:00, 575kB/s]\n",
            "Downloading pytorch_model.bin: 100% 1.34G/1.34G [01:07<00:00, 19.7MB/s]\n",
            "Downloading (…)nce_bert_config.json: 100% 53.0/53.0 [00:00<00:00, 227kB/s]\n",
            "Downloading (…)cial_tokens_map.json: 100% 2.20k/2.20k [00:00<00:00, 13.3MB/s]\n",
            "Downloading spiece.model: 100% 792k/792k [00:00<00:00, 812kB/s]\n",
            "Downloading (…)c7233/tokenizer.json: 100% 2.42M/2.42M [00:00<00:00, 3.10MB/s]\n",
            "Downloading (…)okenizer_config.json: 100% 2.41k/2.41k [00:00<00:00, 9.60MB/s]\n",
            "Downloading (…)15c7233/modules.json: 100% 461/461 [00:00<00:00, 1.96MB/s]\n",
            "load INSTRUCTOR_Transformer\n",
            "2023-09-07 04:03:57,587 - INFO - instantiator.py:21 - Created a temporary directory at /tmp/tmp9wewe521\n",
            "2023-09-07 04:03:57,588 - INFO - instantiator.py:76 - Writing /tmp/tmp9wewe521/_remote_module_non_scriptable.py\n",
            "max_seq_length  512\n"
          ]
        }
      ],
      "source": [
        "!cd $workDir/localGPT && source venv/bin/activate && python ingest.py --device_type cpu"
      ]
    },
    {
      "cell_type": "markdown",
      "metadata": {
        "id": "nfR8ueJuX6Ld"
      },
      "source": [
        "### 2.2 命令行方式提问"
      ]
    },
    {
      "cell_type": "markdown",
      "metadata": {
        "id": "lQSqq783cnrb"
      },
      "source": [
        "设置模型"
      ]
    },
    {
      "cell_type": "code",
      "execution_count": null,
      "metadata": {
        "id": "vEv5FaoBXuJN"
      },
      "outputs": [],
      "source": [
        "# model link: https://huggingface.co/TheBloke/Llama-2-7B-Chat-GGML\n",
        "MODEL_ID = \"TheBloke/Llama-2-7B-Chat-GGML\"\n",
        "MODEL_BASENAME = \"llama-2-7b-chat.ggmlv3.q4_0.bin\""
      ]
    },
    {
      "cell_type": "markdown",
      "metadata": {
        "id": "PTEQqZ_xcqYb"
      },
      "source": [
        "启动控制台"
      ]
    },
    {
      "cell_type": "code",
      "execution_count": null,
      "metadata": {
        "colab": {
          "background_save": true
        },
        "id": "htwvmx67aCnK",
        "outputId": "984f636d-7f11-4624-d9fd-9a0b20066eb4"
      },
      "outputs": [
        {
          "name": "stdout",
          "output_type": "stream",
          "text": [
            "2023-09-07 04:33:31,889 - INFO - run_localGPT.py:180 - Running on: cpu\n",
            "2023-09-07 04:33:31,890 - INFO - run_localGPT.py:181 - Display Source Documents set to: False\n",
            "2023-09-07 04:33:33,660 - INFO - SentenceTransformer.py:66 - Load pretrained SentenceTransformer: hkunlp/instructor-large\n",
            "load INSTRUCTOR_Transformer\n",
            "max_seq_length  512\n",
            "2023-09-07 04:33:48,120 - INFO - posthog.py:16 - Anonymized telemetry enabled. See https://docs.trychroma.com/telemetry for more information.\n",
            "2023-09-07 04:33:48,676 - INFO - run_localGPT.py:45 - Loading Model: TheBloke/Llama-2-70B-Chat-GGML, on: cpu\n",
            "2023-09-07 04:33:48,676 - INFO - run_localGPT.py:46 - This action can take a few minutes!\n",
            "2023-09-07 04:33:48,676 - INFO - run_localGPT.py:50 - Using Llamacpp for GGML quantized models\n",
            "Downloading (…)at.ggmlv3.q5_K_M.bin: 100% 48.8G/48.8G [40:30<00:00, 20.1MB/s]\n",
            "llama.cpp: loading model from /root/.cache/huggingface/hub/models--TheBloke--Llama-2-70B-Chat-GGML/snapshots/2eb277ec3007dcd8e5978ab07dbb235c90663ed1/llama-2-70b-chat.ggmlv3.q5_K_M.bin\n",
            "llama_model_load_internal: format     = ggjt v3 (latest)\n",
            "llama_model_load_internal: n_vocab    = 32000\n",
            "llama_model_load_internal: n_ctx      = 2048\n",
            "llama_model_load_internal: n_embd     = 8192\n",
            "llama_model_load_internal: n_mult     = 4096\n",
            "llama_model_load_internal: n_head     = 64\n",
            "llama_model_load_internal: n_head_kv  = 64\n",
            "llama_model_load_internal: n_layer    = 80\n",
            "llama_model_load_internal: n_rot      = 128\n",
            "llama_model_load_internal: n_gqa      = 1\n",
            "llama_model_load_internal: rnorm_eps  = 5.0e-06\n",
            "llama_model_load_internal: n_ff       = 24576\n",
            "llama_model_load_internal: freq_base  = 10000.0\n",
            "llama_model_load_internal: freq_scale = 1\n",
            "llama_model_load_internal: ftype      = 17 (mostly Q5_K - Medium)\n",
            "llama_model_load_internal: model size = 65B\n",
            "llama_model_load_internal: ggml ctx size =    0.21 MB\n",
            "error loading model: llama.cpp: tensor 'layers.0.attention.wk.weight' has wrong shape; expected  8192 x  8192, got  8192 x  1024\n",
            "llama_load_model_from_file: failed to load model\n",
            "Traceback (most recent call last):\n",
            "  File \"/content/drive/MyDrive/localGPT/run_localGPT.py\", line 246, in <module>\n",
            "    main()\n",
            "  File \"/content/drive/MyDrive/localGPT/venv/lib/python3.10/site-packages/click/core.py\", line 1157, in __call__\n",
            "    return self.main(*args, **kwargs)\n",
            "  File \"/content/drive/MyDrive/localGPT/venv/lib/python3.10/site-packages/click/core.py\", line 1078, in main\n",
            "    rv = self.invoke(ctx)\n",
            "  File \"/content/drive/MyDrive/localGPT/venv/lib/python3.10/site-packages/click/core.py\", line 1434, in invoke\n",
            "    return ctx.invoke(self.callback, **ctx.params)\n",
            "  File \"/content/drive/MyDrive/localGPT/venv/lib/python3.10/site-packages/click/core.py\", line 783, in invoke\n",
            "    return __callback(*args, **kwargs)\n",
            "  File \"/content/drive/MyDrive/localGPT/run_localGPT.py\", line 209, in main\n",
            "    llm = load_model(device_type, model_id=MODEL_ID, model_basename=MODEL_BASENAME)\n",
            "  File \"/content/drive/MyDrive/localGPT/run_localGPT.py\", line 63, in load_model\n",
            "    return LlamaCpp(**kwargs)\n",
            "  File \"/content/drive/MyDrive/localGPT/venv/lib/python3.10/site-packages/langchain/load/serializable.py\", line 74, in __init__\n",
            "    super().__init__(**kwargs)\n",
            "  File \"pydantic/main.py\", line 341, in pydantic.main.BaseModel.__init__\n",
            "pydantic.error_wrappers.ValidationError: 1 validation error for LlamaCpp\n",
            "__root__\n",
            "  Could not load Llama model from path: /root/.cache/huggingface/hub/models--TheBloke--Llama-2-70B-Chat-GGML/snapshots/2eb277ec3007dcd8e5978ab07dbb235c90663ed1/llama-2-70b-chat.ggmlv3.q5_K_M.bin. Received error  (type=value_error)\n"
          ]
        }
      ],
      "source": [
        "# @title 默认标题文本\n",
        "!cd $workDir/localGPT && source venv/bin/activate && python $workDir/localGPT/run_localGPT.py"
      ]
    },
    {
      "cell_type": "markdown",
      "metadata": {
        "id": "LY4PMVXrYID6"
      },
      "source": [
        "### 2.3 接口方式提问"
      ]
    },
    {
      "cell_type": "markdown",
      "metadata": {
        "id": "h-GJdng7adxf"
      },
      "source": [
        "* 启动接口服务"
      ]
    },
    {
      "cell_type": "code",
      "execution_count": null,
      "metadata": {
        "colab": {
          "background_save": true,
          "base_uri": "https://localhost:8080/"
        },
        "id": "EfqhJZTPYDJw",
        "outputId": "d25b2591-9776-4921-99fc-de0111d6fbc0"
      },
      "outputs": [
        {
          "name": "stdout",
          "output_type": "stream",
          "text": [
            "load INSTRUCTOR_Transformer\n",
            "max_seq_length  512\n",
            "llama.cpp: loading model from /root/.cache/huggingface/hub/models--TheBloke--Llama-2-7B-Chat-GGML/snapshots/00109c56c85ca9015795ca06c272cbc65c7f1dbf/llama-2-7b-chat.ggmlv3.q4_0.bin\n",
            "llama_model_load_internal: format     = ggjt v3 (latest)\n",
            "llama_model_load_internal: n_vocab    = 32000\n",
            "llama_model_load_internal: n_ctx      = 2048\n",
            "llama_model_load_internal: n_embd     = 4096\n",
            "llama_model_load_internal: n_mult     = 256\n",
            "llama_model_load_internal: n_head     = 32\n",
            "llama_model_load_internal: n_head_kv  = 32\n",
            "llama_model_load_internal: n_layer    = 32\n",
            "llama_model_load_internal: n_rot      = 128\n",
            "llama_model_load_internal: n_gqa      = 1\n",
            "llama_model_load_internal: rnorm_eps  = 5.0e-06\n",
            "llama_model_load_internal: n_ff       = 11008\n",
            "llama_model_load_internal: freq_base  = 10000.0\n",
            "llama_model_load_internal: freq_scale = 1\n",
            "llama_model_load_internal: ftype      = 2 (mostly Q4_0)\n",
            "llama_model_load_internal: model size = 7B\n",
            "llama_model_load_internal: ggml ctx size =    0.08 MB\n",
            "llama_model_load_internal: mem required  = 3615.73 MB (+ 1024.00 MB per state)\n",
            "llama_new_context_with_model: kv self size  = 1024.00 MB\n",
            "llama_new_context_with_model: compute buffer total size =  153.35 MB\n",
            "AVX = 1 | AVX2 = 1 | AVX512 = 0 | AVX512_VBMI = 0 | AVX512_VNNI = 0 | FMA = 1 | NEON = 0 | ARM_FMA = 0 | F16C = 1 | FP16_VA = 0 | WASM_SIMD = 0 | BLAS = 0 | SSE3 = 1 | VSX = 0 | \n",
            " * Serving Flask app 'run_localGPT_API'\n",
            " * Debug mode: off\n",
            "INFO:werkzeug:\u001b[31m\u001b[1mWARNING: This is a development server. Do not use it in a production deployment. Use a production WSGI server instead.\u001b[0m\n",
            " * Running on http://127.0.0.1:5110\n",
            "INFO:werkzeug:\u001b[33mPress CTRL+C to quit\u001b[0m\n"
          ]
        }
      ],
      "source": [
        "!cd $workDir/localGPT && source venv/bin/activate && python $workDir/localGPT/run_localGPT_API.py"
      ]
    },
    {
      "cell_type": "markdown",
      "metadata": {
        "id": "rdh6QytwagQ3"
      },
      "source": [
        "* 启动界面服务"
      ]
    },
    {
      "cell_type": "code",
      "execution_count": null,
      "metadata": {
        "id": "J61U6mAnYSuE"
      },
      "outputs": [],
      "source": [
        "!cd $workDir/localGPT && source venv/bin/activate && python $workDir/localGPT/localGPT_UI.py"
      ]
    },
    {
      "cell_type": "markdown",
      "metadata": {
        "id": "t9ISOOALgzkD"
      },
      "source": [
        "* 端口映射到外网"
      ]
    },
    {
      "cell_type": "code",
      "execution_count": null,
      "metadata": {
        "id": "Lo4uu6GRgv1o"
      },
      "outputs": [],
      "source": [
        "!pip install pyngrok"
      ]
    },
    {
      "cell_type": "code",
      "execution_count": null,
      "metadata": {
        "id": "Or2C8H0KhRDe"
      },
      "outputs": [],
      "source": [
        "from pyngrok import ngrok\n",
        "# 启动ngrok将本地的8080端口映射到公网\n",
        "public_url = ngrok.connect(5110)\n",
        "print('请访问：', public_url)"
      ]
    },
    {
      "cell_type": "code",
      "execution_count": null,
      "metadata": {
        "id": "pfF1XwOMg0Lv"
      },
      "outputs": [],
      "source": [
        "from pyngrok import ngrok\n",
        "# 启动ngrok将本地的8080端口映射到公网\n",
        "public_url = ngrok.connect(5111)\n",
        "print('请访问：', public_url)"
      ]
    },
    {
      "cell_type": "markdown",
      "metadata": {
        "id": "GjdCQrKVYmbs"
      },
      "source": [
        " http://IP:5111"
      ]
    },
    {
      "cell_type": "markdown",
      "metadata": {
        "id": "09m9TUeRZoPG"
      },
      "source": [
        "## 3. 常见问题"
      ]
    },
    {
      "cell_type": "code",
      "execution_count": null,
      "metadata": {
        "id": "dHDkR5_4avVw"
      },
      "outputs": [],
      "source": [
        "rm -rf /content/localGPT"
      ]
    }
  ],
  "metadata": {
    "colab": {
      "provenance": [],
      "machine_shape": "hm",
      "gpuType": "A100",
      "collapsed_sections": [
        "6TPHRvwIWSvo"
      ],
      "mount_file_id": "1tMfm_yJ-MQZQMiDx68I3mAuEPoDlhvoL",
      "authorship_tag": "ABX9TyPB8XSPyoRLg43MtQsZob/6",
      "include_colab_link": true
    },
    "kernelspec": {
      "display_name": "Python 3",
      "name": "python3"
    },
    "language_info": {
      "name": "python"
    },
    "accelerator": "GPU"
  },
  "nbformat": 4,
  "nbformat_minor": 0
}